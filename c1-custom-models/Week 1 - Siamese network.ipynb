{
 "cells": [
  {
   "cell_type": "markdown",
   "id": "cardiovascular-georgia",
   "metadata": {},
   "source": [
    "# Siamese similarity model\n",
    "\n",
    "Using the Fashion MNIST dataset\n",
    "Train model to infer if two items are similar or different\n",
    "- training set has 6000 of each of 10 categories\n",
    "\n",
    "\n",
    "Siamese structure. See article by Chopra, Hadsell and LeCun: \"Learning a Similarity Metric Discriminatively, with application to Face Verification\"."
   ]
  },
  {
   "cell_type": "code",
   "execution_count": 1,
   "id": "laughing-shanghai",
   "metadata": {},
   "outputs": [],
   "source": [
    "# Fix issue that autocomplete is unresponsive\n",
    "%config Completer.use_jedi = False"
   ]
  },
  {
   "cell_type": "code",
   "execution_count": 2,
   "id": "convenient-sleeve",
   "metadata": {},
   "outputs": [],
   "source": [
    "import tensorflow as tf"
   ]
  },
  {
   "cell_type": "markdown",
   "id": "ethical-producer",
   "metadata": {},
   "source": [
    "Get classes for functional API"
   ]
  },
  {
   "cell_type": "code",
   "execution_count": 3,
   "id": "greek-coating",
   "metadata": {},
   "outputs": [],
   "source": [
    "from tensorflow.keras.models import Model\n",
    "from tensorflow.keras.layers import Input, Flatten, Dense, Dropout, Lambda\n",
    "from tensorflow.keras.optimizers import RMSprop"
   ]
  },
  {
   "cell_type": "markdown",
   "id": "residential-petite",
   "metadata": {},
   "source": [
    "Get Keras backend functions"
   ]
  },
  {
   "cell_type": "code",
   "execution_count": 4,
   "id": "informed-wagner",
   "metadata": {},
   "outputs": [],
   "source": [
    "from tensorflow.keras import backend as K"
   ]
  },
  {
   "cell_type": "markdown",
   "id": "concrete-invite",
   "metadata": {},
   "source": [
    "Get dataset"
   ]
  },
  {
   "cell_type": "code",
   "execution_count": 5,
   "id": "unique-stage",
   "metadata": {},
   "outputs": [],
   "source": [
    "from tensorflow.keras.datasets import fashion_mnist\n",
    "# load the dataset\n",
    "(train_images, train_labels), (test_images, test_labels) = fashion_mnist.load_data()\n",
    "\n",
    "# prepare train and test sets\n",
    "train_images = train_images.astype('float32')\n",
    "test_images = test_images.astype('float32')\n",
    "\n",
    "# normalize values\n",
    "train_images = train_images / 255.0\n",
    "test_images = test_images / 255.0"
   ]
  },
  {
   "cell_type": "markdown",
   "id": "drawn-theology",
   "metadata": {},
   "source": [
    "Other support libraries"
   ]
  },
  {
   "cell_type": "code",
   "execution_count": 6,
   "id": "opponent-nightmare",
   "metadata": {},
   "outputs": [],
   "source": [
    "import numpy as np\n",
    "import matplotlib.pyplot as plt\n",
    "from PIL import Image, ImageFont, ImageDraw"
   ]
  },
  {
   "cell_type": "markdown",
   "id": "impossible-washer",
   "metadata": {},
   "source": [
    "## Pre-process data into pairs"
   ]
  },
  {
   "cell_type": "code",
   "execution_count": 7,
   "id": "impaired-stevens",
   "metadata": {},
   "outputs": [],
   "source": [
    "import support as s"
   ]
  },
  {
   "cell_type": "code",
   "execution_count": 8,
   "id": "subtle-daniel",
   "metadata": {},
   "outputs": [],
   "source": [
    "# create pairs on train and test sets\n",
    "tr_pairs, tr_y = s.create_pairs_on_set(train_images, train_labels)\n",
    "ts_pairs, ts_y = s.create_pairs_on_set(test_images, test_labels)"
   ]
  },
  {
   "cell_type": "code",
   "execution_count": 28,
   "id": "studied-principle",
   "metadata": {},
   "outputs": [
    {
     "data": {
      "image/png": "[encoded data removed]",
      "text/plain": [
       "<Figure size 432x288 with 2 Axes>"
      ]
     },
     "metadata": {
      "needs_background": "light"
     },
     "output_type": "display_data"
    }
   ],
   "source": [
    "# Let's see pair 1\n",
    "idx = 1\n",
    "\n",
    "fig = plt.figure()\n",
    "ax1 = fig.add_subplot(1,2,1)\n",
    "ax1.imshow(tr_pairs[idx][0])\n",
    "ax1.axis('Off')\n",
    "ax2 = fig.add_subplot(1,2,2)\n",
    "ax2.imshow(tr_pairs[idx][1])\n",
    "ax2.axis('Off')\n",
    "ax2.set_title(\"Similarity: \" + str(tr_y[idx]))\n",
    "plt.show()"
   ]
  },
  {
   "cell_type": "code",
   "execution_count": null,
   "id": "composed-there",
   "metadata": {},
   "outputs": [],
   "source": []
  }
 ],
 "metadata": {
  "kernelspec": {
   "display_name": "Python 3",
   "language": "python",
   "name": "python3"
  },
  "language_info": {
   "codemirror_mode": {
    "name": "ipython",
    "version": 3
   },
   "file_extension": ".py",
   "mimetype": "text/x-python",
   "name": "python",
   "nbconvert_exporter": "python",
   "pygments_lexer": "ipython3",
   "version": "3.8.6"
  }
 },
 "nbformat": 4,
 "nbformat_minor": 5
}
