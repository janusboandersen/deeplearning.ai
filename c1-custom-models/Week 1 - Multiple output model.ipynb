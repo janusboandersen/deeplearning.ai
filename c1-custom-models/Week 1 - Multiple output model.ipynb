{
 "cells": [
  {
   "cell_type": "markdown",
   "id": "governmental-arrangement",
   "metadata": {},
   "source": [
    "# Deep learning model with multiple outputs\n",
    "\n",
    "- Train net with two outputs\n",
    "- Example uses neural net to fit multivariate regression problem with multiple outputs (MO)\n",
    "\n",
    "Dataset is the UCI energy efficiency set [here](https://archive.ics.uci.edu/ml/datasets/Energy+efficiency)."
   ]
  },
  {
   "cell_type": "code",
   "execution_count": 1,
   "id": "corrected-right",
   "metadata": {},
   "outputs": [],
   "source": [
    "import tensorflow as tf\n",
    "import numpy as np\n",
    "import matplotlib.pyplot as plt\n",
    "import pandas as pd\n",
    "from tensorflow.keras.models import Model\n",
    "from tensorflow.keras.layers import Dense, Input\n",
    "from sklearn.model_selection import train_test_split"
   ]
  },
  {
   "cell_type": "markdown",
   "id": "coastal-chassis",
   "metadata": {},
   "source": [
    "### Load data from Excel"
   ]
  },
  {
   "cell_type": "code",
   "execution_count": 4,
   "id": "phantom-status",
   "metadata": {},
   "outputs": [],
   "source": [
    "dataset = pd.read_excel('data/ENB2012_data.xlsx')"
   ]
  },
  {
   "cell_type": "code",
   "execution_count": 15,
   "id": "domestic-ribbon",
   "metadata": {},
   "outputs": [],
   "source": [
    "df = dataset.\\\n",
    "        dropna(axis=0, how='all').\\\n",
    "        drop(['Unnamed: 10', 'Unnamed: 11'], axis=1).\\\n",
    "        sample(frac=1).\\\n",
    "        reset_index(drop=True)"
   ]
  },
  {
   "cell_type": "code",
   "execution_count": 16,
   "id": "relative-mentor",
   "metadata": {},
   "outputs": [
    {
     "data": {
      "text/html": [
       "<div>\n",
       "<style scoped>\n",
       "    .dataframe tbody tr th:only-of-type {\n",
       "        vertical-align: middle;\n",
       "    }\n",
       "\n",
       "    .dataframe tbody tr th {\n",
       "        vertical-align: top;\n",
       "    }\n",
       "\n",
       "    .dataframe thead th {\n",
       "        text-align: right;\n",
       "    }\n",
       "</style>\n",
       "<table border=\"1\" class=\"dataframe\">\n",
       "  <thead>\n",
       "    <tr style=\"text-align: right;\">\n",
       "      <th></th>\n",
       "      <th>X1</th>\n",
       "      <th>X2</th>\n",
       "      <th>X3</th>\n",
       "      <th>X4</th>\n",
       "      <th>X5</th>\n",
       "      <th>X6</th>\n",
       "      <th>X7</th>\n",
       "      <th>X8</th>\n",
       "      <th>Y1</th>\n",
       "      <th>Y2</th>\n",
       "    </tr>\n",
       "  </thead>\n",
       "  <tbody>\n",
       "    <tr>\n",
       "      <th>0</th>\n",
       "      <td>0.76</td>\n",
       "      <td>661.5</td>\n",
       "      <td>416.5</td>\n",
       "      <td>122.5</td>\n",
       "      <td>7.0</td>\n",
       "      <td>3.0</td>\n",
       "      <td>0.10</td>\n",
       "      <td>1.0</td>\n",
       "      <td>32.12</td>\n",
       "      <td>34.07</td>\n",
       "    </tr>\n",
       "    <tr>\n",
       "      <th>1</th>\n",
       "      <td>0.82</td>\n",
       "      <td>612.5</td>\n",
       "      <td>318.5</td>\n",
       "      <td>147.0</td>\n",
       "      <td>7.0</td>\n",
       "      <td>4.0</td>\n",
       "      <td>0.25</td>\n",
       "      <td>1.0</td>\n",
       "      <td>26.97</td>\n",
       "      <td>27.25</td>\n",
       "    </tr>\n",
       "    <tr>\n",
       "      <th>2</th>\n",
       "      <td>0.82</td>\n",
       "      <td>612.5</td>\n",
       "      <td>318.5</td>\n",
       "      <td>147.0</td>\n",
       "      <td>7.0</td>\n",
       "      <td>2.0</td>\n",
       "      <td>0.25</td>\n",
       "      <td>5.0</td>\n",
       "      <td>25.70</td>\n",
       "      <td>26.53</td>\n",
       "    </tr>\n",
       "    <tr>\n",
       "      <th>3</th>\n",
       "      <td>0.82</td>\n",
       "      <td>612.5</td>\n",
       "      <td>318.5</td>\n",
       "      <td>147.0</td>\n",
       "      <td>7.0</td>\n",
       "      <td>5.0</td>\n",
       "      <td>0.10</td>\n",
       "      <td>4.0</td>\n",
       "      <td>24.24</td>\n",
       "      <td>25.16</td>\n",
       "    </tr>\n",
       "    <tr>\n",
       "      <th>4</th>\n",
       "      <td>0.76</td>\n",
       "      <td>661.5</td>\n",
       "      <td>416.5</td>\n",
       "      <td>122.5</td>\n",
       "      <td>7.0</td>\n",
       "      <td>2.0</td>\n",
       "      <td>0.10</td>\n",
       "      <td>5.0</td>\n",
       "      <td>32.31</td>\n",
       "      <td>34.25</td>\n",
       "    </tr>\n",
       "    <tr>\n",
       "      <th>...</th>\n",
       "      <td>...</td>\n",
       "      <td>...</td>\n",
       "      <td>...</td>\n",
       "      <td>...</td>\n",
       "      <td>...</td>\n",
       "      <td>...</td>\n",
       "      <td>...</td>\n",
       "      <td>...</td>\n",
       "      <td>...</td>\n",
       "      <td>...</td>\n",
       "    </tr>\n",
       "    <tr>\n",
       "      <th>763</th>\n",
       "      <td>0.76</td>\n",
       "      <td>661.5</td>\n",
       "      <td>416.5</td>\n",
       "      <td>122.5</td>\n",
       "      <td>7.0</td>\n",
       "      <td>2.0</td>\n",
       "      <td>0.25</td>\n",
       "      <td>1.0</td>\n",
       "      <td>36.96</td>\n",
       "      <td>36.85</td>\n",
       "    </tr>\n",
       "    <tr>\n",
       "      <th>764</th>\n",
       "      <td>0.64</td>\n",
       "      <td>784.0</td>\n",
       "      <td>343.0</td>\n",
       "      <td>220.5</td>\n",
       "      <td>3.5</td>\n",
       "      <td>4.0</td>\n",
       "      <td>0.25</td>\n",
       "      <td>2.0</td>\n",
       "      <td>17.02</td>\n",
       "      <td>20.48</td>\n",
       "    </tr>\n",
       "    <tr>\n",
       "      <th>765</th>\n",
       "      <td>0.90</td>\n",
       "      <td>563.5</td>\n",
       "      <td>318.5</td>\n",
       "      <td>122.5</td>\n",
       "      <td>7.0</td>\n",
       "      <td>3.0</td>\n",
       "      <td>0.00</td>\n",
       "      <td>0.0</td>\n",
       "      <td>21.46</td>\n",
       "      <td>25.38</td>\n",
       "    </tr>\n",
       "    <tr>\n",
       "      <th>766</th>\n",
       "      <td>0.82</td>\n",
       "      <td>612.5</td>\n",
       "      <td>318.5</td>\n",
       "      <td>147.0</td>\n",
       "      <td>7.0</td>\n",
       "      <td>2.0</td>\n",
       "      <td>0.40</td>\n",
       "      <td>2.0</td>\n",
       "      <td>28.95</td>\n",
       "      <td>30.34</td>\n",
       "    </tr>\n",
       "    <tr>\n",
       "      <th>767</th>\n",
       "      <td>0.71</td>\n",
       "      <td>710.5</td>\n",
       "      <td>269.5</td>\n",
       "      <td>220.5</td>\n",
       "      <td>3.5</td>\n",
       "      <td>4.0</td>\n",
       "      <td>0.25</td>\n",
       "      <td>2.0</td>\n",
       "      <td>12.20</td>\n",
       "      <td>14.94</td>\n",
       "    </tr>\n",
       "  </tbody>\n",
       "</table>\n",
       "<p>768 rows × 10 columns</p>\n",
       "</div>"
      ],
      "text/plain": [
       "       X1     X2     X3     X4   X5   X6    X7   X8     Y1     Y2\n",
       "0    0.76  661.5  416.5  122.5  7.0  3.0  0.10  1.0  32.12  34.07\n",
       "1    0.82  612.5  318.5  147.0  7.0  4.0  0.25  1.0  26.97  27.25\n",
       "2    0.82  612.5  318.5  147.0  7.0  2.0  0.25  5.0  25.70  26.53\n",
       "3    0.82  612.5  318.5  147.0  7.0  5.0  0.10  4.0  24.24  25.16\n",
       "4    0.76  661.5  416.5  122.5  7.0  2.0  0.10  5.0  32.31  34.25\n",
       "..    ...    ...    ...    ...  ...  ...   ...  ...    ...    ...\n",
       "763  0.76  661.5  416.5  122.5  7.0  2.0  0.25  1.0  36.96  36.85\n",
       "764  0.64  784.0  343.0  220.5  3.5  4.0  0.25  2.0  17.02  20.48\n",
       "765  0.90  563.5  318.5  122.5  7.0  3.0  0.00  0.0  21.46  25.38\n",
       "766  0.82  612.5  318.5  147.0  7.0  2.0  0.40  2.0  28.95  30.34\n",
       "767  0.71  710.5  269.5  220.5  3.5  4.0  0.25  2.0  12.20  14.94\n",
       "\n",
       "[768 rows x 10 columns]"
      ]
     },
     "execution_count": 16,
     "metadata": {},
     "output_type": "execute_result"
    }
   ],
   "source": [
    "df"
   ]
  },
  {
   "cell_type": "markdown",
   "id": "upset-segment",
   "metadata": {},
   "source": [
    "### Split into train and test data"
   ]
  },
  {
   "cell_type": "code",
   "execution_count": 62,
   "id": "balanced-greek",
   "metadata": {},
   "outputs": [],
   "source": [
    "train, test = train_test_split(df, test_size=0.2)\n",
    "\n",
    "# Make stats on input variables\n",
    "train_stats = train.\\\n",
    "                describe().\\\n",
    "                drop(['Y1', 'Y2'], axis=1).\\\n",
    "                transpose()\n",
    "\n",
    "test_stats = test.\\\n",
    "                describe().\\\n",
    "                drop(['Y1', 'Y2'], axis=1).\\\n",
    "                transpose()"
   ]
  },
  {
   "cell_type": "markdown",
   "id": "level-clearance",
   "metadata": {},
   "source": [
    "### Make dependent variables"
   ]
  },
  {
   "cell_type": "code",
   "execution_count": 63,
   "id": "immune-facial",
   "metadata": {},
   "outputs": [],
   "source": [
    "y1 = np.array(train.pop('Y1'))\n",
    "y2 = np.array(train.pop('Y2'))\n",
    "train_Y = (y1, y2)"
   ]
  },
  {
   "cell_type": "code",
   "execution_count": 64,
   "id": "backed-inflation",
   "metadata": {},
   "outputs": [],
   "source": [
    "y1 = np.array(test.pop('Y1'))\n",
    "y2 = np.array(test.pop('Y2'))\n",
    "test_Y = (y1, y2)"
   ]
  },
  {
   "cell_type": "markdown",
   "id": "terminal-thought",
   "metadata": {},
   "source": [
    "Normalize the independent variables"
   ]
  },
  {
   "cell_type": "code",
   "execution_count": 65,
   "id": "chicken-product",
   "metadata": {},
   "outputs": [],
   "source": [
    "train_norm = (train - train_stats['mean'])/train_stats['std']\n",
    "test_norm = (test - test_stats['mean'])/test_stats['std']"
   ]
  },
  {
   "cell_type": "markdown",
   "id": "certified-advertiser",
   "metadata": {},
   "source": [
    "## Build non-sequential MO model"
   ]
  },
  {
   "cell_type": "code",
   "execution_count": 71,
   "id": "animated-minute",
   "metadata": {},
   "outputs": [],
   "source": [
    "input_dim = len(train.columns)"
   ]
  },
  {
   "cell_type": "code",
   "execution_count": 107,
   "id": "julian-family",
   "metadata": {},
   "outputs": [],
   "source": [
    "def simo_model():\n",
    "    la0 = Input(shape=(input_dim,), name='input')                   # input in R^8\n",
    "    la1 = Dense(units=128, activation='relu', name='dense1')(la0)   # gets from input layer\n",
    "    la2 = Dense(units=128, activation='relu', name='dense2')(la1)   # fully connected from layer 1\n",
    "    la3 = Dense(units=64,  activation='relu', name='dense3')(la2)   # fully connected from layer 2\n",
    "    \n",
    "    y1_out = Dense(units=1, name='y1_out')(la2)\n",
    "    y2_out = Dense(units=1, name='y2_out')(la3)\n",
    "    \n",
    "    return Model(inputs=[la0], outputs=[y1_out, y2_out])"
   ]
  },
  {
   "cell_type": "markdown",
   "id": "fifteen-grocery",
   "metadata": {},
   "source": [
    "### Get model, compile"
   ]
  },
  {
   "cell_type": "code",
   "execution_count": 108,
   "id": "structural-annex",
   "metadata": {},
   "outputs": [],
   "source": [
    "model = simo_model()\n",
    "\n",
    "opt = tf.keras.optimizers.SGD(lr=0.001)\n",
    "\n",
    "model.compile(\n",
    "    optimizer=opt,\n",
    "    loss={\n",
    "        'y1_out': 'mse',\n",
    "        'y2_out': 'mse',\n",
    "    },\n",
    "    metrics={\n",
    "        'y1_out': tf.keras.metrics.RootMeanSquaredError(),\n",
    "        'y2_out': tf.keras.metrics.RootMeanSquaredError(),\n",
    "    }\n",
    ")"
   ]
  },
  {
   "cell_type": "markdown",
   "id": "bigger-sweet",
   "metadata": {},
   "source": [
    "### Train!"
   ]
  },
  {
   "cell_type": "code",
   "execution_count": 109,
   "id": "geological-charleston",
   "metadata": {},
   "outputs": [],
   "source": [
    "hist = model.fit(\n",
    "    train_norm,\n",
    "    train_Y,\n",
    "    epochs=500,\n",
    "    validation_data=(test_norm, test_Y),\n",
    "    verbose=False\n",
    ")"
   ]
  },
  {
   "cell_type": "code",
   "execution_count": 110,
   "id": "living-bibliography",
   "metadata": {},
   "outputs": [
    {
     "name": "stdout",
     "output_type": "stream",
     "text": [
      "5/5 [==============================] - 0s 1ms/step - loss: 4.8400 - y1_out_loss: 0.7300 - y2_out_loss: 4.1100 - y1_out_root_mean_squared_error: 0.8544 - y2_out_root_mean_squared_error: 2.0273\n"
     ]
    },
    {
     "data": {
      "text/plain": [
       "[4.839954376220703,\n",
       " 0.7299944162368774,\n",
       " 4.109959602355957,\n",
       " 0.8543971180915833,\n",
       " 2.027303457260132]"
      ]
     },
     "execution_count": 110,
     "metadata": {},
     "output_type": "execute_result"
    }
   ],
   "source": [
    "model.evaluate(x=test_norm, y=test_Y)"
   ]
  },
  {
   "cell_type": "markdown",
   "id": "professional-clinic",
   "metadata": {},
   "source": [
    "### Out-of-sample predictions with the model and plot comparison"
   ]
  },
  {
   "cell_type": "code",
   "execution_count": 111,
   "id": "diverse-metallic",
   "metadata": {},
   "outputs": [],
   "source": [
    "y_hat = model.predict(test_norm)"
   ]
  },
  {
   "cell_type": "code",
   "execution_count": 112,
   "id": "unnecessary-titanium",
   "metadata": {},
   "outputs": [],
   "source": [
    "def perf_scatter(y_true, y_hat, name):\n",
    "    plt.scatter(y_true, y_hat)\n",
    "    plt.title(name)\n",
    "    plt.xlabel('True Values')\n",
    "    plt.ylabel('Predictions')\n",
    "    plt.axis('equal')\n",
    "    plt.axis('square')\n",
    "    plt.xlim(plt.xlim())\n",
    "    plt.ylim(plt.ylim())\n",
    "    plt.plot([-100, 100], [-100, 100])\n",
    "    plt.show()"
   ]
  },
  {
   "cell_type": "code",
   "execution_count": 113,
   "id": "earned-skirt",
   "metadata": {},
   "outputs": [
    {
     "data": {
      "image/png": "[encoded data removed]",
      "text/plain": [
       "<Figure size 432x288 with 1 Axes>"
      ]
     },
     "metadata": {
      "needs_background": "light"
     },
     "output_type": "display_data"
    },
    {
     "data": {
      "image/png": "[encoded data removed]",
      "text/plain": [
       "<Figure size 432x288 with 1 Axes>"
      ]
     },
     "metadata": {
      "needs_background": "light"
     },
     "output_type": "display_data"
    }
   ],
   "source": [
    "perf_scatter(test_Y[0], y_hat[0], 'Y1')\n",
    "perf_scatter(test_Y[1], y_hat[1], 'Y2')"
   ]
  },
  {
   "cell_type": "markdown",
   "id": "interpreted-divorce",
   "metadata": {},
   "source": [
    "Performance looks okay, as \n",
    "- predictions line up with true values\n",
    "- no obvious non-linearities or systematic deviations\n",
    "- tendency for heteroscedastic error and systematic under-prediction near high end of Y2, could be worth exploring further"
   ]
  },
  {
   "cell_type": "markdown",
   "id": "private-fields",
   "metadata": {},
   "source": [
    "### RMSE training performance"
   ]
  },
  {
   "cell_type": "code",
   "execution_count": 118,
   "id": "separated-pearl",
   "metadata": {},
   "outputs": [
    {
     "name": "stdout",
     "output_type": "stream",
     "text": [
      "dict_keys(['loss', 'y1_out_loss', 'y2_out_loss', 'y1_out_root_mean_squared_error', 'y2_out_root_mean_squared_error', 'val_loss', 'val_y1_out_loss', 'val_y2_out_loss', 'val_y1_out_root_mean_squared_error', 'val_y2_out_root_mean_squared_error'])\n"
     ]
    }
   ],
   "source": [
    "print(hist.history.keys())"
   ]
  },
  {
   "cell_type": "code",
   "execution_count": 125,
   "id": "liked-police",
   "metadata": {},
   "outputs": [
    {
     "data": {
      "image/png": "[encoded data removed]",
      "text/plain": [
       "<Figure size 432x288 with 1 Axes>"
      ]
     },
     "metadata": {
      "needs_background": "light"
     },
     "output_type": "display_data"
    }
   ],
   "source": [
    "plt.plot(hist.history['val_y1_out_root_mean_squared_error']);\n",
    "plt.plot(hist.history['val_y2_out_root_mean_squared_error']);\n",
    "plt.xlim(0, 500)\n",
    "plt.title('RMSE vs. epoch')\n",
    "plt.xlabel('Epoch')\n",
    "plt.ylabel('RMSE')\n",
    "plt.show()"
   ]
  },
  {
   "cell_type": "code",
   "execution_count": null,
   "id": "employed-silence",
   "metadata": {},
   "outputs": [],
   "source": []
  }
 ],
 "metadata": {
  "kernelspec": {
   "display_name": "Python 3",
   "language": "python",
   "name": "python3"
  },
  "language_info": {
   "codemirror_mode": {
    "name": "ipython",
    "version": 3
   },
   "file_extension": ".py",
   "mimetype": "text/x-python",
   "name": "python",
   "nbconvert_exporter": "python",
   "pygments_lexer": "ipython3",
   "version": "3.8.6"
  }
 },
 "nbformat": 4,
 "nbformat_minor": 5
}
